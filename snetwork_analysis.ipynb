{
 "cells": [
  {
   "cell_type": "markdown",
   "metadata": {},
   "source": [
    "# **Lorem Ipsum Dolor Sit Amet**"
   ]
  },
  {
   "cell_type": "markdown",
   "metadata": {},
   "source": [
    "Lorem ipsum dolor sit amet, consectetur adipiscing elit. Donec vestibulum tortor tortor, sed lobortis velit pharetra et. Mauris at lectus quis lorem viverra cursus. Praesent a efficitur lectus, vitae aliquet urna. Phasellus aliquam felis non consequat eleifend. Nulla ut feugiat ex. Suspendisse non justo vel neque dignissim vestibulum. Praesent feugiat vel nisi eu ullamcorper. Sed tincidunt mollis ex. "
   ]
  },
  {
   "cell_type": "markdown",
   "metadata": {},
   "source": [
    "**Authors:**\n",
    "- [Adrian Flores](https://github.com/adrianRFlores)\n",
    "- [Andrea Ramirez](https://github.com/Andrea-gt)"
   ]
  },
  {
   "cell_type": "markdown",
   "metadata": {},
   "source": [
    "***"
   ]
  },
  {
   "cell_type": "markdown",
   "metadata": {},
   "source": [
    "## **(1) Import Libraries** ⬇️"
   ]
  },
  {
   "cell_type": "code",
   "execution_count": 52,
   "metadata": {},
   "outputs": [],
   "source": [
    "#!pip install unidecode"
   ]
  },
  {
   "cell_type": "code",
   "execution_count": 53,
   "metadata": {},
   "outputs": [],
   "source": [
    "# Data manipulation and visualization\n",
    "import matplotlib.pyplot as plt\n",
    "import numpy as np\n",
    "import pandas as pd\n",
    "import seaborn as sns\n",
    "from unidecode import unidecode\n",
    "import json\n",
    "import nltk\n",
    "from nltk.stem import SnowballStemmer\n",
    "from nltk.corpus import stopwords\n",
    "\n",
    "# Standard libraries\n",
    "import warnings\n",
    "warnings.filterwarnings('ignore')\n",
    "\n",
    "# ===== ===== Reproducibility Seed ===== =====\n",
    "# Set a fixed seed for the random number generator for reproducibility\n",
    "random_state = 42\n",
    "\n",
    "# Set matplotlib inline\n",
    "%matplotlib inline\n",
    "\n",
    "# Set default figure size\n",
    "plt.rcParams['figure.figsize'] = (6, 4)\n",
    "\n",
    "# Define custom color palette\n",
    "palette = sns.color_palette(\"viridis\", 12)\n",
    "\n",
    "# Set the style of seaborn\n",
    "sns.set(style=\"whitegrid\")"
   ]
  },
  {
   "cell_type": "markdown",
   "metadata": {},
   "source": [
    "## **(2) Data Upload** 📄"
   ]
  },
  {
   "cell_type": "code",
   "execution_count": 54,
   "metadata": {},
   "outputs": [],
   "source": [
    "# Read the .txt file \n",
    "with open('data/tweets.txt', 'r', encoding='utf-16') as file:\n",
    "    lines = file.readlines()"
   ]
  },
  {
   "cell_type": "code",
   "execution_count": 55,
   "metadata": {},
   "outputs": [],
   "source": [
    "# List to hold extracted tweet data\n",
    "tweet_data = []\n",
    "\n",
    "# Loop through each line, assuming each line is a separate JSON object\n",
    "for line in lines:\n",
    "    # Parse the line as JSON\n",
    "    data = json.loads(line.strip())\n",
    "    \n",
    "    # Extract the relevant information\n",
    "    tweet_entry = {\n",
    "        \"tweet_date\": pd.to_datetime(data[\"date\"]).date(),\n",
    "        \"user_username\": data[\"user\"][\"username\"],\n",
    "        \"mentioned_users\": \", \".join([user[\"username\"] for user in data[\"mentionedUsers\"]]),\n",
    "        \"reply_count\": data[\"replyCount\"],\n",
    "        \"retweet_count\": data[\"retweetCount\"],\n",
    "        \"like_count\": data[\"likeCount\"],\n",
    "        \"quote_count\": data[\"quoteCount\"],\n",
    "        'tweet': data['rawContent'],\n",
    "        \"hashtags\": \", \".join(data[\"hashtags\"])\n",
    "    }\n",
    "    \n",
    "    # Append the tweet data to the list\n",
    "    tweet_data.append(tweet_entry)"
   ]
  },
  {
   "cell_type": "code",
   "execution_count": 56,
   "metadata": {},
   "outputs": [
    {
     "data": {
      "text/html": [
       "<div>\n",
       "<style scoped>\n",
       "    .dataframe tbody tr th:only-of-type {\n",
       "        vertical-align: middle;\n",
       "    }\n",
       "\n",
       "    .dataframe tbody tr th {\n",
       "        vertical-align: top;\n",
       "    }\n",
       "\n",
       "    .dataframe thead th {\n",
       "        text-align: right;\n",
       "    }\n",
       "</style>\n",
       "<table border=\"1\" class=\"dataframe\">\n",
       "  <thead>\n",
       "    <tr style=\"text-align: right;\">\n",
       "      <th></th>\n",
       "      <th>tweet_date</th>\n",
       "      <th>user_username</th>\n",
       "      <th>mentioned_users</th>\n",
       "      <th>reply_count</th>\n",
       "      <th>retweet_count</th>\n",
       "      <th>like_count</th>\n",
       "      <th>quote_count</th>\n",
       "      <th>tweet</th>\n",
       "      <th>hashtags</th>\n",
       "    </tr>\n",
       "  </thead>\n",
       "  <tbody>\n",
       "    <tr>\n",
       "      <th>0</th>\n",
       "      <td>2024-09-12</td>\n",
       "      <td>La_ReVoluZzion</td>\n",
       "      <td>usembassyguate, 48CantonesToto, USAIDGuate, UE...</td>\n",
       "      <td>0</td>\n",
       "      <td>0</td>\n",
       "      <td>0</td>\n",
       "      <td>0</td>\n",
       "      <td>_\\nConfirmado Compañeres,\\n\\nEl impuesto por l...</td>\n",
       "      <td></td>\n",
       "    </tr>\n",
       "    <tr>\n",
       "      <th>1</th>\n",
       "      <td>2024-09-12</td>\n",
       "      <td>XelaNewsGt</td>\n",
       "      <td></td>\n",
       "      <td>12</td>\n",
       "      <td>80</td>\n",
       "      <td>142</td>\n",
       "      <td>15</td>\n",
       "      <td>#URGENTE Lo que los medios #faferos no informa...</td>\n",
       "      <td>URGENTE, faferos, BernardoArévalo, NebajQuiché...</td>\n",
       "    </tr>\n",
       "    <tr>\n",
       "      <th>2</th>\n",
       "      <td>2024-09-12</td>\n",
       "      <td>M24095273</td>\n",
       "      <td>IvanDuque, BArevalodeLeon</td>\n",
       "      <td>0</td>\n",
       "      <td>0</td>\n",
       "      <td>0</td>\n",
       "      <td>0</td>\n",
       "      <td>@IvanDuque @BArevalodeLeon Con que usaste PEGA...</td>\n",
       "      <td></td>\n",
       "    </tr>\n",
       "  </tbody>\n",
       "</table>\n",
       "</div>"
      ],
      "text/plain": [
       "   tweet_date   user_username  \\\n",
       "0  2024-09-12  La_ReVoluZzion   \n",
       "1  2024-09-12      XelaNewsGt   \n",
       "2  2024-09-12       M24095273   \n",
       "\n",
       "                                     mentioned_users  reply_count  \\\n",
       "0  usembassyguate, 48CantonesToto, USAIDGuate, UE...            0   \n",
       "1                                                              12   \n",
       "2                          IvanDuque, BArevalodeLeon            0   \n",
       "\n",
       "   retweet_count  like_count  quote_count  \\\n",
       "0              0           0            0   \n",
       "1             80         142           15   \n",
       "2              0           0            0   \n",
       "\n",
       "                                               tweet  \\\n",
       "0  _\\nConfirmado Compañeres,\\n\\nEl impuesto por l...   \n",
       "1  #URGENTE Lo que los medios #faferos no informa...   \n",
       "2  @IvanDuque @BArevalodeLeon Con que usaste PEGA...   \n",
       "\n",
       "                                            hashtags  \n",
       "0                                                     \n",
       "1  URGENTE, faferos, BernardoArévalo, NebajQuiché...  \n",
       "2                                                     "
      ]
     },
     "execution_count": 56,
     "metadata": {},
     "output_type": "execute_result"
    }
   ],
   "source": [
    "# Create the DataFrame\n",
    "df = pd.DataFrame(tweet_data)\n",
    "\n",
    "# Display the DataFrame\n",
    "df.head(3)"
   ]
  },
  {
   "cell_type": "markdown",
   "metadata": {},
   "source": [
    "**Observaciones 💡 -->**"
   ]
  },
  {
   "cell_type": "markdown",
   "metadata": {},
   "source": [
    "Notar que ya se han llevado a cabo algunas acciones importantes de pre-procesamiento con el objetivo de optimizar el conjunto de datos, en el contexto del análisis de redes sociales (esto puede variar según el propósito del dataset). A continuación, se detallan los pasos realizados:\n",
    "\n",
    "> - **Reducción de columnas:** Se han eliminado aquellas columnas que no aportan valor relevante para el análisis de redes sociales, dejando únicamente las siguientes variables: tweet_date, user_username, mentioned_users, reply_count, retweet_count, like_count, quote_count, tweet y hashtags. La finalidad es reducir la dimensionalidad del conjunto de datos, eliminando características que solo añaden ruido innecesario.\n",
    "\n",
    "> - **Formateo de fecha:** La columna tweet_date, que originalmente incluía tanto la fecha como la hora, ha sido simplificada para contener únicamente el día, mes y año. Este ajuste es especialmente útil dado que la precisión horaria no es relevante para el análisis, contribuyendo así a la homogeneización del formato de los datos."
   ]
  },
  {
   "cell_type": "markdown",
   "metadata": {},
   "source": [
    "## **(3) Exploratory Analysis** 🔎"
   ]
  },
  {
   "cell_type": "markdown",
   "metadata": {},
   "source": [
    "### **(1) Descripción General de los Datos**"
   ]
  },
  {
   "cell_type": "code",
   "execution_count": 57,
   "metadata": {},
   "outputs": [
    {
     "name": "stdout",
     "output_type": "stream",
     "text": [
      "The given dataset has 5019 registers and 9 columns.\n"
     ]
    }
   ],
   "source": [
    "# Print the number of records in the DataFrame\n",
    "print(\"The given dataset has\", df.shape[0], \"registers and\", df.shape[1], \"columns.\")"
   ]
  },
  {
   "cell_type": "markdown",
   "metadata": {},
   "source": [
    "**Observaciones 💡 -->**"
   ]
  },
  {
   "cell_type": "markdown",
   "metadata": {},
   "source": [
    "> - El conjunto de datos actual cuenta con 5019 registros y las 9 columnas previamente mencionadas, indicando una dimensión relativamente pequeña. Este conjunto de datos consta de tweets de la plataforma `X`, que de alguna u otra forma están ligados a el usuario `@BArevalodeLeon`. Cada uno de los 7613 registros representa un tweet único, mientras que las 9 columnas corresponden a diferentes características o variables medidas para cada observación, incluyendo el texto y fecha de un tweet, así como las estadísticas de este."
   ]
  },
  {
   "cell_type": "code",
   "execution_count": 58,
   "metadata": {},
   "outputs": [
    {
     "name": "stdout",
     "output_type": "stream",
     "text": [
      "<class 'pandas.core.frame.DataFrame'>\n",
      "RangeIndex: 5019 entries, 0 to 5018\n",
      "Data columns (total 9 columns):\n",
      " #   Column           Non-Null Count  Dtype \n",
      "---  ------           --------------  ----- \n",
      " 0   tweet_date       5019 non-null   object\n",
      " 1   user_username    5019 non-null   object\n",
      " 2   mentioned_users  5019 non-null   object\n",
      " 3   reply_count      5019 non-null   int64 \n",
      " 4   retweet_count    5019 non-null   int64 \n",
      " 5   like_count       5019 non-null   int64 \n",
      " 6   quote_count      5019 non-null   int64 \n",
      " 7   tweet            5019 non-null   object\n",
      " 8   hashtags         5019 non-null   object\n",
      "dtypes: int64(4), object(5)\n",
      "memory usage: 353.0+ KB\n"
     ]
    }
   ],
   "source": [
    "# Basic information about the dataset\n",
    "df.info()"
   ]
  },
  {
   "cell_type": "markdown",
   "metadata": {},
   "source": [
    "**Observaciones 💡 -->**"
   ]
  },
  {
   "cell_type": "markdown",
   "metadata": {},
   "source": [
    "> - Por el momento, no se ha detectado la presencia de valores faltantes  en ninguna de las columnas. Sin embargo, es evidente que sí existe información ausente en algunos registros, lo que sugiere que será necesario realizar un preprocesamiento adicional para identificar adecuadamente estos datos faltantes. Una vez detectados, será importante aplicar técnicas de imputación que permitan completar o manejar estos valores de manera adecuada."
   ]
  },
  {
   "cell_type": "markdown",
   "metadata": {},
   "source": [
    "El conjunto de datos contiene 9 columnas o características, las cuales se describen a continuación:\n",
    "\n",
    "- **tweet_date**: La fecha en la que se publicó el tweet.\n",
    "- **user_username**: El nombre de usuario de la cuenta que publicó el tweet. \n",
    "- **mentioned_users**: Los usuarios mencionados en el tweet. \n",
    "- **reply_count**: El número de respuestas que recibió el tweet. \n",
    "- **retweet_count**: La cantidad de veces que el tweet fue retuiteado. \n",
    "- **like_count**: El número de \"me gusta\" que recibió el tweet. \n",
    "- **quote_count**: La cantidad de veces que el tweet fue citado. \n",
    "- **tweet**: El contenido textual del tweet.\n",
    "- **hashtags**: Los hashtags incluidos en el tweet.\n",
    "\n",
    "Las características incluyen tanto datos de tipo numérico (`int64`) como de tipo texto (`object`)."
   ]
  },
  {
   "cell_type": "markdown",
   "metadata": {},
   "source": [
    "### **(2) Clasificación de las Variables**"
   ]
  },
  {
   "cell_type": "markdown",
   "metadata": {},
   "source": [
    "| **Nombre de la columna** | **Descripción**                                                  | **Clasificación**                   |\n",
    "|--------------------------|------------------------------------------------------------------|-------------------------------------|\n",
    "| `tweet_date`             | Fecha en la que se publicó el tweet                              | Cualitativa (descriptiva)           |\n",
    "| `user_username`          | Nombre de usuario de la cuenta que publicó el tweet              | Cualitativa (descriptiva)           |\n",
    "| `mentioned_users`        | Usuarios mencionados en el tweet                                 | Cualitativa (descriptiva)           |\n",
    "| `reply_count`            | Número de respuestas que recibió el tweet                        | Cuantitativa (discreta)             |\n",
    "| `retweet_count`          | Número de veces que fue retuiteado el tweet                      | Cuantitativa (discreta)             |\n",
    "| `like_count`             | Número de \"me gusta\" que recibió el tweet                        | Cuantitativa (discreta)             |\n",
    "| `quote_count`            | Número de veces que fue citado el tweet                          | Cuantitativa (discreta)             |\n",
    "| `tweet`                  | Contenido textual del tweet                                      | Cualitativa (descriptiva)           |\n",
    "| `hashtags`               | Hashtags incluidos en el tweet                                   | Cualitativa (descriptiva)           |\n"
   ]
  },
  {
   "cell_type": "markdown",
   "metadata": {},
   "source": [
    "**Observaciones 💡 -->**"
   ]
  },
  {
   "cell_type": "markdown",
   "metadata": {},
   "source": [
    "> - El conjunto de datos posee 5 variables cualitativas descriptivas.\n",
    "> - Las últimas 4 variables del conjunto de datos son de tipo cuantitativo."
   ]
  },
  {
   "cell_type": "markdown",
   "metadata": {},
   "source": [
    "### **(3) Exploración y Limpieza Inicial de los Datos**"
   ]
  },
  {
   "cell_type": "markdown",
   "metadata": {},
   "source": [
    "#### **(1) Preprocesamiento de los Datos**"
   ]
  },
  {
   "cell_type": "code",
   "execution_count": 59,
   "metadata": {},
   "outputs": [
    {
     "name": "stderr",
     "output_type": "stream",
     "text": [
      "[nltk_data] Downloading package stopwords to /home/andrea/nltk_data...\n",
      "[nltk_data]   Package stopwords is already up-to-date!\n"
     ]
    }
   ],
   "source": [
    "# Download the NLTK stopwords if not already available\n",
    "nltk.download('stopwords')\n",
    "# Initialize the PorterStemmer\n",
    "stemmer = SnowballStemmer('spanish')"
   ]
  },
  {
   "cell_type": "code",
   "execution_count": 60,
   "metadata": {},
   "outputs": [],
   "source": [
    "# Get the list of stopwords from NLTK\n",
    "stop_words = set(stopwords.words('spanish'))"
   ]
  },
  {
   "cell_type": "code",
   "execution_count": 61,
   "metadata": {},
   "outputs": [],
   "source": [
    "# Function to remove stopwords and apply stemming\n",
    "def preprocess_text(text):\n",
    "    # Tokenize the text\n",
    "    words = text.split()\n",
    "    # Remove stopwords and apply stemming\n",
    "    processed_words = [word for word in words if word not in stop_words]\n",
    "    # Reassemble the text\n",
    "    return ' '.join(processed_words)"
   ]
  },
  {
   "cell_type": "markdown",
   "metadata": {},
   "source": [
    "**Columna `tweet` -->** "
   ]
  },
  {
   "cell_type": "code",
   "execution_count": 62,
   "metadata": {},
   "outputs": [],
   "source": [
    "# Convert all entries to strings\n",
    "df['tweet'] = df['tweet'].astype(str)\n",
    "# Remove leading/trailing whitespaces\n",
    "df['tweet'] = df['tweet'].str.strip()\n",
    "# Remove accents and/or special characters\n",
    "df['tweet'] = df['tweet'].apply(unidecode)\n",
    "# Convert to lowercase\n",
    "df['tweet'] = df['tweet'].str.lower()\n",
    "# Remove usernames from the tweet text\n",
    "df['tweet'] = df['tweet'].str.replace(r'@\\w+', '', regex=True).str.strip()\n",
    "# Remove URLs\n",
    "df['tweet'] = df['tweet'].str.replace(r'http\\S+|www\\S+|https\\S+', '', case=False, regex=True)\n",
    "# Keeping letters, numbers, and spaces\n",
    "df['tweet'] = df['tweet'].str.replace(r'[^\\w\\s]', '', regex=True)\n",
    "# Remove extra spaces\n",
    "df['tweet'] = df['tweet'].str.replace(r'\\s+', ' ', regex=True)\n",
    "# Apply preprocessing (stopwords removal and stemming)\n",
    "df['tweet'] = df['tweet'].apply(preprocess_text)"
   ]
  },
  {
   "cell_type": "markdown",
   "metadata": {},
   "source": [
    "**Columna `hashtags` -->** "
   ]
  },
  {
   "cell_type": "code",
   "execution_count": null,
   "metadata": {},
   "outputs": [],
   "source": []
  }
 ],
 "metadata": {
  "kernelspec": {
   "display_name": "venv",
   "language": "python",
   "name": "python3"
  },
  "language_info": {
   "codemirror_mode": {
    "name": "ipython",
    "version": 3
   },
   "file_extension": ".py",
   "mimetype": "text/x-python",
   "name": "python",
   "nbconvert_exporter": "python",
   "pygments_lexer": "ipython3",
   "version": "3.10.12"
  }
 },
 "nbformat": 4,
 "nbformat_minor": 2
}
